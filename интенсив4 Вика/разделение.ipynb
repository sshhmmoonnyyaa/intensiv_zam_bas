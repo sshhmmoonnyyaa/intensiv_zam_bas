{
 "cells": [
  {
   "cell_type": "code",
   "execution_count": 1,
   "metadata": {},
   "outputs": [
    {
     "name": "stdout",
     "output_type": "stream",
     "text": [
      "Файл успешно перекодирован в UTF-8 и сохранен как 'разметка комментариев 2_utf8.csv'\n"
     ]
    }
   ],
   "source": [
    "import pandas as pd\n",
    "\n",
    "# Чтение файла с автоматическим определением кодировки\n",
    "try:\n",
    "    df = pd.read_csv('разметка комментариев 2.csv', sep='\\t', encoding='utf-8')\n",
    "except UnicodeDecodeError:\n",
    "    try:\n",
    "        df = pd.read_csv('разметка комментариев 2.csv', sep='\\t', encoding='cp1251')\n",
    "    except UnicodeDecodeError:\n",
    "        df = pd.read_csv('разметка комментариев 2.csv', sep='\\t', encoding='iso-8859-1')\n",
    "\n",
    "# Сохранение файла в UTF-8\n",
    "df.to_csv('разметка комментариев 2_utf8.csv', sep='\\t', index=False, encoding='utf-8-sig')\n",
    "\n",
    "print(\"Файл успешно перекодирован в UTF-8 и сохранен как 'разметка комментариев 2_utf8.csv'\")"
   ]
  },
  {
   "cell_type": "code",
   "execution_count": 2,
   "metadata": {},
   "outputs": [],
   "source": [
    "import pandas as pd\n",
    "\n",
    "# Загрузка данных\n",
    "df = pd.read_csv('C:\\\\Users\\\\VikA\\\\Desktop\\\\интенсив4\\\\разметка комментариев 2_utf8.csv', sep='\\t')\n",
    "\n",
    "# Функции для проверки критериев\n",
    "def check_speed(text):\n",
    "    keywords = ['оперативно', 'быстро', 'скорость']\n",
    "    return any(word in str(text).lower() for word in keywords)\n",
    "\n",
    "def check_quality(text):\n",
    "    keywords = ['качественно', 'хорошо', 'отлично', 'исправлено']\n",
    "    return any(word in str(text).lower() for word in keywords)\n",
    "\n",
    "def check_staff(text):\n",
    "    keywords = ['специалист', 'мастер', 'сотрудник', 'вежливый']\n",
    "    return any(word in str(text).lower() for word in keywords)\n",
    "\n",
    "def check_satisfaction(text):\n",
    "    keywords = ['спасибо', 'отлично', 'доволен']\n",
    "    return any(word in str(text).lower() for word in keywords)\n",
    "\n",
    "def check_solved(text):\n",
    "    keywords = ['решили', 'исправлено', 'вопрос решен']\n",
    "    return any(word in str(text).lower() for word in keywords)\n",
    "\n",
    "# Применение функций к столбцу comment\n",
    "df['Нравится скорость отработки заявок'] = df['comment'].apply(check_speed).astype(int)\n",
    "df['Нравится качество выполнения заявки'] = df['comment'].apply(check_quality).astype(int)\n",
    "df['Нравится качество работы сотрудников'] = df['comment'].apply(check_staff).astype(int)\n",
    "df['Понравилось выполнение заявки'] = df['comment'].apply(check_satisfaction).astype(int)\n",
    "df['Вопрос решен'] = df['comment'].apply(check_solved).astype(int)\n",
    "\n",
    "# Сохранение результата\n",
    "df.to_csv('разметка комментариев_результат.csv', sep='\\t', index=False)"
   ]
  },
  {
   "cell_type": "code",
   "execution_count": 2,
   "metadata": {},
   "outputs": [],
   "source": [
    "import pandas as pd\n",
    "import json\n",
    "\n",
    "# Загрузка данных\n",
    "df = pd.read_csv(\"project-4-at-2025-05-11-19-19-bab1590b.csv\")\n",
    "\n",
    "# Целевые категории\n",
    "categories = [\n",
    "    \"Вопрос решен\",\n",
    "    \"Нравится качество выполнения заявки\",\n",
    "    \"Нравится качество работы сотрудников\",\n",
    "    \"Нравится скорость отработки заявок\",\n",
    "    \"Понравилось выполнение заявки\"\n",
    "]\n",
    "\n",
    "# Создаем новый DataFrame с колонками категорий\n",
    "new_df = pd.DataFrame(columns=categories)\n",
    "\n",
    "# Функция для извлечения категорий из JSON\n",
    "def extract_categories(taxonomy_str):\n",
    "    try:\n",
    "        taxonomy_str = taxonomy_str.replace(\"'\", '\"')  # Исправляем кавычки\n",
    "        data = json.loads(taxonomy_str)\n",
    "        return [item[0] for item in data[0][\"taxonomy\"]]\n",
    "    except Exception as e:\n",
    "        print(f\"Ошибка в строке {index}: {e}\")\n",
    "        return []\n",
    "\n",
    "# Заполняем колонки комментариями\n",
    "for index, row in df.iterrows():\n",
    "    comment = row[\"comment\"]\n",
    "    matched_categories = extract_categories(row[\"taxonomy\"])\n",
    "    \n",
    "    # Создаем строку: комментарий добавляется только в соответствующие категории\n",
    "    new_row = {category: (comment if category in matched_categories else \"\") \n",
    "               for category in categories}\n",
    "    \n",
    "    new_df = pd.concat([new_df, pd.DataFrame([new_row])], ignore_index=True)\n",
    "\n",
    "# Сохраняем результат\n",
    "new_df.to_csv(\"categorized_comments.csv\", index=False, encoding=\"utf-8-sig\")"
   ]
  },
  {
   "cell_type": "code",
   "execution_count": 3,
   "metadata": {},
   "outputs": [
    {
     "name": "stdout",
     "output_type": "stream",
     "text": [
      "Файл успешно сохранён в кодировке UTF-8: categorized_comments_utf8.csv\n"
     ]
    }
   ],
   "source": [
    "import pandas as pd\n",
    "\n",
    "# Чтение файла в исходной кодировке (предположительно 'windows-1251' или 'cp1251')\n",
    "file_path = 'categorized_comments.csv'\n",
    "data = pd.read_csv(file_path, sep='\\t', encoding='windows-1251')\n",
    "\n",
    "# Сохранение файла в кодировке UTF-8\n",
    "output_path = 'categorized_comments_utf8.csv'\n",
    "data.to_csv(output_path, sep='\\t', index=False, encoding='utf-8')\n",
    "\n",
    "print(f\"Файл успешно сохранён в кодировке UTF-8: {output_path}\")"
   ]
  }
 ],
 "metadata": {
  "kernelspec": {
   "display_name": "Python 3",
   "language": "python",
   "name": "python3"
  },
  "language_info": {
   "codemirror_mode": {
    "name": "ipython",
    "version": 3
   },
   "file_extension": ".py",
   "mimetype": "text/x-python",
   "name": "python",
   "nbconvert_exporter": "python",
   "pygments_lexer": "ipython3",
   "version": "3.12.6"
  }
 },
 "nbformat": 4,
 "nbformat_minor": 2
}
